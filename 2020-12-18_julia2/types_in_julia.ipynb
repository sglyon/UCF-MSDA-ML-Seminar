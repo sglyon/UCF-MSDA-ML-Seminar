{
 "cells": [
  {
   "cell_type": "markdown",
   "metadata": {
    "slideshow": {
     "slide_type": "slide"
    }
   },
   "source": [
    "# Julia Types and Multiple Dispatch\n",
    "\n",
    "All objects and variables in Julia have a type\n",
    "\n",
    "This is similar to other dynamic languages, but in Julia types are extra important because...\n",
    "\n",
    "1. They form the basis of Julia's main super power: *multiple dispatch*\n",
    "2. They allow Julia to generate efficient machine code for a function, depending on the types\n",
    "\n",
    "> Note parts 1 and 2 are related\n",
    "\n",
    "In this notebook we will do a quick, high-level overview of Julia's type system\n",
    "\n",
    "Then we will learn about multiple dispatch and see what it lets us do!"
   ]
  },
  {
   "cell_type": "markdown",
   "metadata": {
    "slideshow": {
     "slide_type": "subslide"
    }
   },
   "source": [
    "## Types intro\n",
    "\n",
    "All objects and variables in Julia have a type\n",
    "\n",
    "Use the `typeof` function to see the type:"
   ]
  },
  {
   "cell_type": "code",
   "execution_count": 49,
   "metadata": {
    "execution": {
     "iopub.execute_input": "2020-12-18T17:36:32.741000-05:00",
     "iopub.status.busy": "2020-12-18T17:36:32.741000-05:00",
     "iopub.status.idle": "2020-12-18T17:36:32.769000-05:00"
    }
   },
   "outputs": [
    {
     "name": "stdout",
     "output_type": "stream",
     "text": [
      "typeof(1) = Int64\n",
      "typeof(x) = Float64\n",
      "typeof([1, 2, 3]) = Array{Int64,1}\n",
      "typeof((1, \"hi\", [1, 2.0])) = Tuple{Int64,String,Array{Float64,1}}\n"
     ]
    },
    {
     "data": {
      "text/plain": [
       "Tuple{Int64,String,Array{Float64,1}}"
      ]
     },
     "execution_count": 49,
     "metadata": {},
     "output_type": "execute_result"
    }
   ],
   "source": [
    "x = 10.0\n",
    "@show typeof(1)\n",
    "@show typeof(x)\n",
    "@show typeof([1, 2, 3])\n",
    "@show typeof((1, \"hi\", [1, 2.0]))"
   ]
  },
  {
   "cell_type": "markdown",
   "metadata": {
    "slideshow": {
     "slide_type": "subslide"
    }
   },
   "source": [
    "## Abstract vs. Concrete Types\n",
    "\n",
    "Julia types come in two different flavors:\n",
    "\n",
    "1. Abstract types\n",
    "2. Concrete types\n",
    "\n",
    "Abstract types are used to organize a hierarchy of types\n",
    "\n",
    "All objects or variables have exactly one concrete type"
   ]
  },
  {
   "cell_type": "markdown",
   "metadata": {
    "slideshow": {
     "slide_type": "subslide"
    }
   },
   "source": [
    "### `Any`\n",
    "\n",
    "There is one type called `Any` that is the \"top\" of the tree of types\n",
    "\n",
    "All types are subtypes of `Any` (including `Any` itself)\n"
   ]
  },
  {
   "cell_type": "code",
   "execution_count": 50,
   "metadata": {
    "execution": {
     "iopub.execute_input": "2020-12-18T17:36:36.232000-05:00",
     "iopub.status.busy": "2020-12-18T17:36:36.231000-05:00",
     "iopub.status.idle": "2020-12-18T17:36:36.244000-05:00"
    }
   },
   "outputs": [
    {
     "data": {
      "text/plain": [
       "(Any,)"
      ]
     },
     "execution_count": 50,
     "metadata": {},
     "output_type": "execute_result"
    }
   ],
   "source": [
    "supertypes(Any)"
   ]
  },
  {
   "cell_type": "code",
   "execution_count": 51,
   "metadata": {
    "execution": {
     "iopub.execute_input": "2020-12-18T17:36:36.799000-05:00",
     "iopub.status.busy": "2020-12-18T17:36:36.799000-05:00",
     "iopub.status.idle": "2020-12-18T17:36:36.895000-05:00"
    }
   },
   "outputs": [
    {
     "data": {
      "text/plain": [
       "563-element Array{Any,1}:\n",
       " AbstractArray\n",
       " AbstractChannel\n",
       " AbstractChar\n",
       " AbstractDict\n",
       " AbstractDisplay\n",
       " AbstractLayout\n",
       " AbstractRNG\n",
       " AbstractSet\n",
       " AbstractString\n",
       " AbstractTrace\n",
       " AbstractTrees.AbstractShadowTree\n",
       " AbstractTrees.ImplicitChildStates\n",
       " AbstractTrees.ImplicitRootState\n",
       " ⋮\n",
       " WebIO.Node\n",
       " WebIO.ObservableNode\n",
       " WebIO.Scope\n",
       " WebIO.Sync\n",
       " WebIO.SyncCallback\n",
       " WebIO.WebIOServer\n",
       " WebSockets.ServerWS\n",
       " WebSockets.WebSocketFragment\n",
       " Widgets.AbstractBackend\n",
       " ZMQ.Context\n",
       " ZMQ.Socket\n",
       " ZMQ._Message"
      ]
     },
     "execution_count": 51,
     "metadata": {},
     "output_type": "execute_result"
    }
   ],
   "source": [
    "subtypes(Any)"
   ]
  },
  {
   "cell_type": "markdown",
   "metadata": {
    "slideshow": {
     "slide_type": "subslide"
    }
   },
   "source": [
    "### Example: Number\n",
    "\n",
    "To understand how these types work, let's look at how the Julia type system represents numbers\n",
    "\n",
    "The \"top\" of the tree of numeric types is `Number`\n",
    "\n",
    "It's only super type (parent type) is `Any`"
   ]
  },
  {
   "cell_type": "code",
   "execution_count": 97,
   "metadata": {
    "execution": {
     "iopub.execute_input": "2020-12-18T17:36:39.352000-05:00",
     "iopub.status.busy": "2020-12-18T17:36:39.352000-05:00",
     "iopub.status.idle": "2020-12-18T17:36:39.353000-05:00"
    },
    "slideshow": {
     "slide_type": "subslide"
    }
   },
   "outputs": [
    {
     "data": {
      "text/plain": [
       "Any"
      ]
     },
     "execution_count": 97,
     "metadata": {},
     "output_type": "execute_result"
    }
   ],
   "source": [
    "supertype(Number)"
   ]
  },
  {
   "cell_type": "markdown",
   "metadata": {
    "slideshow": {
     "slide_type": "subslide"
    }
   },
   "source": [
    "Number has two subtypes:\n",
    "\n",
    "`Real` and `Complex`"
   ]
  },
  {
   "cell_type": "code",
   "execution_count": 53,
   "metadata": {
    "execution": {
     "iopub.execute_input": "2020-12-18T17:36:43.753000-05:00",
     "iopub.status.busy": "2020-12-18T17:36:43.753000-05:00",
     "iopub.status.idle": "2020-12-18T17:36:43.776000-05:00"
    }
   },
   "outputs": [
    {
     "data": {
      "text/plain": [
       "2-element Array{Any,1}:\n",
       " Complex\n",
       " Real"
      ]
     },
     "execution_count": 53,
     "metadata": {},
     "output_type": "execute_result"
    }
   ],
   "source": [
    "subtypes(Number)"
   ]
  },
  {
   "cell_type": "markdown",
   "metadata": {
    "slideshow": {
     "slide_type": "subslide"
    }
   },
   "source": [
    "We can continue to traverse down the branch for `Real` numbers"
   ]
  },
  {
   "cell_type": "code",
   "execution_count": 54,
   "metadata": {
    "execution": {
     "iopub.execute_input": "2020-12-18T17:36:44.547000-05:00",
     "iopub.status.busy": "2020-12-18T17:36:44.546000-05:00",
     "iopub.status.idle": "2020-12-18T17:36:44.570000-05:00"
    }
   },
   "outputs": [
    {
     "data": {
      "text/plain": [
       "5-element Array{Any,1}:\n",
       " AbstractFloat\n",
       " AbstractIrrational\n",
       " FixedPointNumbers.FixedPoint\n",
       " Integer\n",
       " Rational"
      ]
     },
     "execution_count": 54,
     "metadata": {},
     "output_type": "execute_result"
    }
   ],
   "source": [
    "subtypes(Real)"
   ]
  },
  {
   "cell_type": "code",
   "execution_count": 55,
   "metadata": {
    "execution": {
     "iopub.execute_input": "2020-12-18T17:36:45.086000-05:00",
     "iopub.status.busy": "2020-12-18T17:36:45.086000-05:00",
     "iopub.status.idle": "2020-12-18T17:36:45.109000-05:00"
    }
   },
   "outputs": [
    {
     "data": {
      "text/plain": [
       "3-element Array{Any,1}:\n",
       " Bool\n",
       " Signed\n",
       " Unsigned"
      ]
     },
     "execution_count": 55,
     "metadata": {},
     "output_type": "execute_result"
    }
   ],
   "source": [
    "subtypes(Integer)"
   ]
  },
  {
   "cell_type": "code",
   "execution_count": 56,
   "metadata": {
    "execution": {
     "iopub.execute_input": "2020-12-18T17:36:45.543000-05:00",
     "iopub.status.busy": "2020-12-18T17:36:45.542000-05:00",
     "iopub.status.idle": "2020-12-18T17:36:45.566000-05:00"
    }
   },
   "outputs": [
    {
     "data": {
      "text/plain": [
       "6-element Array{Any,1}:\n",
       " BigInt\n",
       " Int128\n",
       " Int16\n",
       " Int32\n",
       " Int64\n",
       " Int8"
      ]
     },
     "execution_count": 56,
     "metadata": {},
     "output_type": "execute_result"
    }
   ],
   "source": [
    "subtypes(Signed)"
   ]
  },
  {
   "cell_type": "markdown",
   "metadata": {
    "slideshow": {
     "slide_type": "fragment"
    }
   },
   "source": [
    "Eventually we reach the bottom of the tree and there are no more subtypes"
   ]
  },
  {
   "cell_type": "code",
   "execution_count": 98,
   "metadata": {
    "execution": {
     "iopub.execute_input": "2020-12-18T17:36:47.904000-05:00",
     "iopub.status.busy": "2020-12-18T17:36:47.904000-05:00",
     "iopub.status.idle": "2020-12-18T17:36:47.947000-05:00"
    }
   },
   "outputs": [
    {
     "data": {
      "text/plain": [
       "Type[]"
      ]
     },
     "execution_count": 98,
     "metadata": {},
     "output_type": "execute_result"
    }
   ],
   "source": [
    "subtypes(Int64)"
   ]
  },
  {
   "cell_type": "markdown",
   "metadata": {
    "slideshow": {
     "slide_type": "subslide"
    }
   },
   "source": [
    "In the tree, all nodes except the leaf nodes are abstract\n",
    "\n",
    "All leaf nodes are concrete"
   ]
  },
  {
   "cell_type": "code",
   "execution_count": 99,
   "metadata": {
    "execution": {
     "iopub.execute_input": "2020-12-18T17:36:53.462000-05:00",
     "iopub.status.busy": "2020-12-18T17:36:53.462000-05:00",
     "iopub.status.idle": "2020-12-18T17:36:53.489000-05:00"
    }
   },
   "outputs": [
    {
     "name": "stdout",
     "output_type": "stream",
     "text": [
      "(T, isabstracttype(T), isconcretetype(T)) = (Number, true, false)\n",
      "(T, isabstracttype(T), isconcretetype(T)) = (Real, true, false)\n",
      "(T, isabstracttype(T), isconcretetype(T)) = (Integer, true, false)\n",
      "(T, isabstracttype(T), isconcretetype(T)) = (Signed, true, false)\n",
      "(T, isabstracttype(T), isconcretetype(T)) = (Int64, false, true)\n"
     ]
    }
   ],
   "source": [
    "for T in [Number, Real, Integer, Signed, Int64]\n",
    "    @show T, isabstracttype(T), isconcretetype(T)\n",
    "end"
   ]
  },
  {
   "cell_type": "markdown",
   "metadata": {
    "slideshow": {
     "slide_type": "subslide"
    }
   },
   "source": [
    "We can print out one branch of the tree using `Base.show_supertypes`"
   ]
  },
  {
   "cell_type": "code",
   "execution_count": 101,
   "metadata": {},
   "outputs": [
    {
     "name": "stdout",
     "output_type": "stream",
     "text": [
      "Signed <: Integer <: Real <: Number <: Any"
     ]
    }
   ],
   "source": [
    "Base.show_supertypes(Signed)"
   ]
  },
  {
   "cell_type": "code",
   "execution_count": 59,
   "metadata": {
    "execution": {
     "iopub.execute_input": "2020-12-18T17:36:54.797000-05:00",
     "iopub.status.busy": "2020-12-18T17:36:54.796000-05:00",
     "iopub.status.idle": "2020-12-18T17:36:54.798000-05:00"
    },
    "slideshow": {
     "slide_type": "fragment"
    }
   },
   "outputs": [
    {
     "name": "stdout",
     "output_type": "stream",
     "text": [
      "Int64 <: Signed <: Integer <: Real <: Number <: Any"
     ]
    }
   ],
   "source": [
    "Base.show_supertypes(Int64)"
   ]
  },
  {
   "cell_type": "markdown",
   "metadata": {
    "slideshow": {
     "slide_type": "subslide"
    }
   },
   "source": [
    "Using the `AbstractTrees` package we can print out the tree for any abstract type:"
   ]
  },
  {
   "cell_type": "code",
   "execution_count": 60,
   "metadata": {
    "execution": {
     "iopub.execute_input": "2020-12-18T17:36:56.101000-05:00",
     "iopub.status.busy": "2020-12-18T17:36:56.100000-05:00",
     "iopub.status.idle": "2020-12-18T17:36:56.337000-05:00"
    }
   },
   "outputs": [
    {
     "name": "stdout",
     "output_type": "stream",
     "text": [
      "Number\n",
      "├─ Complex\n",
      "└─ Real\n",
      "   ├─ AbstractFloat\n",
      "   │  ├─ BigFloat\n",
      "   │  ├─ Float16\n",
      "   │  ├─ Float32\n",
      "   │  └─ Float64\n",
      "   ├─ AbstractIrrational\n",
      "   │  └─ Irrational\n",
      "   ├─ FixedPoint\n",
      "   │  ├─ Fixed\n",
      "   │  └─ Normed\n",
      "   ├─ Integer\n",
      "   │  ├─ Bool\n",
      "   │  ├─ Signed\n",
      "   │  │  ├─ BigInt\n",
      "   │  │  ├─ Int128\n",
      "   │  │  ├─ Int16\n",
      "   │  │  ├─ Int32\n",
      "   │  │  ├─ Int64\n",
      "   │  │  └─ Int8\n",
      "   │  └─ Unsigned\n",
      "   │     ├─ UInt128\n",
      "   │     ├─ UInt16\n",
      "   │     ├─ UInt32\n",
      "   │     ├─ UInt64\n",
      "   │     └─ UInt8\n",
      "   └─ Rational\n"
     ]
    }
   ],
   "source": [
    "using AbstractTrees\n",
    "AbstractTrees.children(x::Type) = subtypes(x)\n",
    "print_tree(Number)"
   ]
  },
  {
   "cell_type": "markdown",
   "metadata": {
    "slideshow": {
     "slide_type": "fragment"
    }
   },
   "source": [
    "Question: based on the printout above, is `Complex` an abstract or concrete type?"
   ]
  },
  {
   "cell_type": "markdown",
   "metadata": {
    "slideshow": {
     "slide_type": "subslide"
    }
   },
   "source": [
    "Abstract types are defined using the syntax \n",
    "\n",
    "```julia\n",
    "abstract type NAME <: PARENT end\n",
    "```\n",
    "\n",
    "where `NAME` is the name of the type and `PARENT` is the supertype\n",
    "\n",
    "There can only be one supertype for each type"
   ]
  },
  {
   "cell_type": "markdown",
   "metadata": {
    "slideshow": {
     "slide_type": "subslide"
    }
   },
   "source": [
    "Let's see how the `Real` branch of numbers is defined in Julia\n",
    "\n",
    "https://github.com/JuliaLang/julia/blob/676ccf4eaa9b6e6c6a53f75abb4bf3e1a2457426/base/boot.jl#L206-L230"
   ]
  },
  {
   "cell_type": "markdown",
   "metadata": {
    "slideshow": {
     "slide_type": "subslide"
    }
   },
   "source": [
    "### Concrete Types\n",
    "\n",
    "Concrete types are types we can create\n",
    "\n",
    "Every object or variable has exactly one concrete type\n",
    "\n",
    "This is what is shown by `typeof`"
   ]
  },
  {
   "cell_type": "markdown",
   "metadata": {
    "slideshow": {
     "slide_type": "subslide"
    }
   },
   "source": [
    "Typically we create an instance of concrete type `T` using `T(data)`\n",
    "\n",
    "> It is actually more sophisticated than that, but we'll get to that later..."
   ]
  },
  {
   "cell_type": "code",
   "execution_count": 62,
   "metadata": {
    "execution": {
     "iopub.execute_input": "2020-12-18T17:40:00.654000-05:00",
     "iopub.status.busy": "2020-12-18T17:40:00.654000-05:00",
     "iopub.status.idle": "2020-12-18T17:40:00.656000-05:00"
    }
   },
   "outputs": [
    {
     "name": "stdout",
     "output_type": "stream",
     "text": [
      "typeof(1) = Int64\n",
      "typeof(Int32(1)) = Int32\n"
     ]
    }
   ],
   "source": [
    "@show typeof(1)\n",
    "@show typeof(Int32(1));"
   ]
  },
  {
   "cell_type": "markdown",
   "metadata": {
    "slideshow": {
     "slide_type": "subslide"
    }
   },
   "source": [
    "There are a few flavors of concrete type:\n",
    "\n",
    "- `primitive type`\n",
    "- composite type\n",
    "    - `struct`\n",
    "    - `mutable struct`"
   ]
  },
  {
   "cell_type": "markdown",
   "metadata": {
    "slideshow": {
     "slide_type": "subslide"
    }
   },
   "source": [
    "A primitive type is a type whose only structure is the number of bits that type occupies in memory\n",
    "\n",
    "We saw this in the Julia code for defining the `Real` branch of `Number`'s subtypes:\n",
    "\n",
    "```julia\n",
    "primitive type Float32 <: AbstractFloat 32 end\n",
    "primitive type Float64 <: AbstractFloat 64 end\n",
    "```\n",
    "\n",
    "I've been programming Julia for ~7 years and I've never had to create a primitive type..."
   ]
  },
  {
   "cell_type": "markdown",
   "metadata": {
    "slideshow": {
     "slide_type": "subslide"
    }
   },
   "source": [
    "### Composite Types\n",
    "\n",
    "Composite types have one or more named and typed fields\n",
    "\n",
    "\n",
    "They are defined with the syntax\n",
    "\n",
    "```julia\n",
    "struct NAME <: SUPERTYPE\n",
    "    name1::TYPE1\n",
    "    name2::TYPE2 \n",
    "end\n",
    "```\n",
    "\n",
    "Note that  the field types are optional (but very helpful and strongly encouraged)\n",
    "\n",
    "Also note that `SUPERTYPE` is optional -- if not given it will implicitly be `ANY`"
   ]
  },
  {
   "cell_type": "markdown",
   "metadata": {
    "slideshow": {
     "slide_type": "subslide"
    }
   },
   "source": [
    "Let's see an example"
   ]
  },
  {
   "cell_type": "code",
   "execution_count": 102,
   "metadata": {
    "execution": {
     "iopub.execute_input": "2020-12-18T17:46:39.050000-05:00",
     "iopub.status.busy": "2020-12-18T17:46:39.050000-05:00",
     "iopub.status.idle": "2020-12-18T17:46:39.055000-05:00"
    }
   },
   "outputs": [],
   "source": [
    "struct Address\n",
    "    number::Int\n",
    "    street::String\n",
    "    unit::String\n",
    "    city::String\n",
    "    state::String\n",
    "    zip::Int \n",
    "end"
   ]
  },
  {
   "cell_type": "code",
   "execution_count": 103,
   "metadata": {
    "execution": {
     "iopub.execute_input": "2020-12-18T17:47:19.488000-05:00",
     "iopub.status.busy": "2020-12-18T17:47:19.488000-05:00",
     "iopub.status.idle": "2020-12-18T17:47:19.490000-05:00"
    }
   },
   "outputs": [
    {
     "data": {
      "text/plain": [
       "Address(123, \"5th avenue\", \"\", \"New York\", \"NY\", 10023)"
      ]
     },
     "execution_count": 103,
     "metadata": {},
     "output_type": "execute_result"
    }
   ],
   "source": [
    "addr = Address(123, \"5th avenue\", \"\", \"New York\", \"NY\", 10023)\n",
    "addr"
   ]
  },
  {
   "cell_type": "code",
   "execution_count": 104,
   "metadata": {
    "execution": {
     "iopub.execute_input": "2020-12-18T17:47:19.794000-05:00",
     "iopub.status.busy": "2020-12-18T17:47:19.794000-05:00",
     "iopub.status.idle": "2020-12-18T17:47:19.796000-05:00"
    }
   },
   "outputs": [
    {
     "name": "stdout",
     "output_type": "stream",
     "text": [
      "Address\n",
      "  number: Int64 123\n",
      "  street: String \"5th avenue\"\n",
      "  unit: String \"\"\n",
      "  city: String \"New York\"\n",
      "  state: String \"NY\"\n",
      "  zip: Int64 10023\n"
     ]
    }
   ],
   "source": [
    "dump(addr)"
   ]
  },
  {
   "cell_type": "markdown",
   "metadata": {
    "slideshow": {
     "slide_type": "subslide"
    }
   },
   "source": [
    "Field types can be built in, or types we create"
   ]
  },
  {
   "cell_type": "code",
   "execution_count": 105,
   "metadata": {
    "execution": {
     "iopub.execute_input": "2020-12-18T18:02:10.799000-05:00",
     "iopub.status.busy": "2020-12-18T18:02:10.799000-05:00",
     "iopub.status.idle": "2020-12-18T18:02:10.806000-05:00"
    }
   },
   "outputs": [],
   "source": [
    "using Dates\n",
    "\n",
    "abstract type Person end\n",
    "\n",
    "struct Friend <: Person\n",
    "    name::String\n",
    "    birthday::Date\n",
    "    address::Address\n",
    "end\n",
    "\n",
    "struct Stranger <: Person\n",
    "end"
   ]
  },
  {
   "cell_type": "code",
   "execution_count": 106,
   "metadata": {
    "execution": {
     "iopub.execute_input": "2020-12-18T17:49:44.986000-05:00",
     "iopub.status.busy": "2020-12-18T17:49:44.986000-05:00",
     "iopub.status.idle": "2020-12-18T17:49:44.988000-05:00"
    }
   },
   "outputs": [
    {
     "data": {
      "text/plain": [
       "Friend(\"Jim Halpert\", Date(\"1979-10-20\"), Address(123, \"5th avenue\", \"\", \"New York\", \"NY\", 10023))"
      ]
     },
     "execution_count": 106,
     "metadata": {},
     "output_type": "execute_result"
    }
   ],
   "source": [
    "jim = Friend(\"Jim Halpert\", Date(1979, 10, 20), addr)\n",
    "jim"
   ]
  },
  {
   "cell_type": "code",
   "execution_count": 73,
   "metadata": {
    "execution": {
     "iopub.execute_input": "2020-12-18T17:49:46.928000-05:00",
     "iopub.status.busy": "2020-12-18T17:49:46.928000-05:00",
     "iopub.status.idle": "2020-12-18T17:49:47.037000-05:00"
    }
   },
   "outputs": [
    {
     "name": "stdout",
     "output_type": "stream",
     "text": [
      "Friend\n",
      "  name: String \"Jim Halpert\"\n",
      "  birthday: Date\n",
      "    instant: Dates.UTInstant{Day}\n",
      "      periods: Day\n",
      "        value: Int64 722742\n",
      "  address: Address\n",
      "    number: Int64 123\n",
      "    street: String \"5th avenue\"\n",
      "    unit: String \"\"\n",
      "    city: String \"New York\"\n",
      "    state: String \"NY\"\n",
      "    zip: Int64 10023\n"
     ]
    }
   ],
   "source": [
    "dump(jim)"
   ]
  },
  {
   "cell_type": "markdown",
   "metadata": {
    "slideshow": {
     "slide_type": "subslide"
    }
   },
   "source": [
    "When defined with `struct`, an instance's fields cannot be changed after being created"
   ]
  },
  {
   "cell_type": "code",
   "execution_count": 107,
   "metadata": {
    "execution": {
     "iopub.execute_input": "2020-12-18T17:51:30.467000-05:00",
     "iopub.status.busy": "2020-12-18T17:51:30.467000-05:00",
     "iopub.status.idle": "2020-12-18T17:51:30.749000-05:00"
    }
   },
   "outputs": [
    {
     "ename": "LoadError",
     "evalue": "setfield! immutable struct of type Friend cannot be changed",
     "output_type": "error",
     "traceback": [
      "setfield! immutable struct of type Friend cannot be changed",
      "",
      "Stacktrace:",
      " [1] setproperty!(::Friend, ::Symbol, ::String) at ./Base.jl:34",
      " [2] top-level scope at In[107]:1",
      " [3] include_string(::Function, ::Module, ::String, ::String) at ./loading.jl:1091"
     ]
    }
   ],
   "source": [
    "jim.name = \"Dwight Schrute\""
   ]
  },
  {
   "cell_type": "markdown",
   "metadata": {
    "slideshow": {
     "slide_type": "subslide"
    }
   },
   "source": [
    "To be able to change a field we need to use `mutable struct` instead"
   ]
  },
  {
   "cell_type": "code",
   "execution_count": 110,
   "metadata": {
    "execution": {
     "iopub.execute_input": "2020-12-18T17:52:25.546000-05:00",
     "iopub.status.busy": "2020-12-18T17:52:25.546000-05:00",
     "iopub.status.idle": "2020-12-18T17:52:25.794000-05:00"
    }
   },
   "outputs": [
    {
     "data": {
      "text/plain": [
       "Enemy2(\"Dwight\")"
      ]
     },
     "execution_count": 110,
     "metadata": {},
     "output_type": "execute_result"
    }
   ],
   "source": [
    "mutable struct Enemy2 <: Person\n",
    "    name::String\n",
    "end\n",
    "\n",
    "dwight = Enemy2(\"Dwight\")"
   ]
  },
  {
   "cell_type": "code",
   "execution_count": 111,
   "metadata": {
    "execution": {
     "iopub.execute_input": "2020-12-18T17:52:39.106000-05:00",
     "iopub.status.busy": "2020-12-18T17:52:39.106000-05:00",
     "iopub.status.idle": "2020-12-18T17:52:39.194000-05:00"
    }
   },
   "outputs": [
    {
     "name": "stdout",
     "output_type": "stream",
     "text": [
      "Enemy2\n",
      "  name: String \"Dwight Schrute\"\n"
     ]
    }
   ],
   "source": [
    "dwight.name = \"Dwight Schrute\"\n",
    "\n",
    "dump(dwight)"
   ]
  },
  {
   "cell_type": "markdown",
   "metadata": {
    "slideshow": {
     "slide_type": "subslide"
    }
   },
   "source": [
    "### Parametric Types\n",
    "\n",
    "Julia has a very powerful concept called parametric types\n",
    "\n",
    "We won't have time to cover them in detail, but will look at `Array` as an example\n",
    "\n",
    "See the section from the [docs](https://docs.julialang.org/en/v1/manual/types/#Parametric-Types) for more information"
   ]
  },
  {
   "cell_type": "code",
   "execution_count": 80,
   "metadata": {
    "execution": {
     "iopub.execute_input": "2020-12-18T17:54:12.751000-05:00",
     "iopub.status.busy": "2020-12-18T17:54:12.751000-05:00",
     "iopub.status.idle": "2020-12-18T17:54:12.759000-05:00"
    },
    "slideshow": {
     "slide_type": "subslide"
    }
   },
   "outputs": [
    {
     "data": {
      "text/plain": [
       "Array{Int64,1}"
      ]
     },
     "execution_count": 80,
     "metadata": {},
     "output_type": "execute_result"
    }
   ],
   "source": [
    "x = [1, 2]\n",
    "typeof(x)"
   ]
  },
  {
   "cell_type": "markdown",
   "metadata": {
    "slideshow": {
     "slide_type": "skip"
    }
   },
   "source": [
    "`Array` is the name of the type and `Int64`, `1` are the type parameters\n",
    "\n",
    "Type parameters allow the same type/struct to represent data of different underlying types"
   ]
  },
  {
   "cell_type": "code",
   "execution_count": 81,
   "metadata": {
    "execution": {
     "iopub.execute_input": "2020-12-18T17:55:25.447000-05:00",
     "iopub.status.busy": "2020-12-18T17:55:25.447000-05:00",
     "iopub.status.idle": "2020-12-18T17:55:25.455000-05:00"
    },
    "slideshow": {
     "slide_type": "subslide"
    }
   },
   "outputs": [
    {
     "data": {
      "text/plain": [
       "Array{Float64,1}"
      ]
     },
     "execution_count": 81,
     "metadata": {},
     "output_type": "execute_result"
    }
   ],
   "source": [
    "typeof([1.0, 2.0])"
   ]
  },
  {
   "cell_type": "code",
   "execution_count": 82,
   "metadata": {
    "execution": {
     "iopub.execute_input": "2020-12-18T17:55:34.321000-05:00",
     "iopub.status.busy": "2020-12-18T17:55:34.321000-05:00",
     "iopub.status.idle": "2020-12-18T17:55:34.329000-05:00"
    }
   },
   "outputs": [
    {
     "data": {
      "text/plain": [
       "Array{String,1}"
      ]
     },
     "execution_count": 82,
     "metadata": {},
     "output_type": "execute_result"
    }
   ],
   "source": [
    "typeof([\"A\", \"b\"])"
   ]
  },
  {
   "cell_type": "code",
   "execution_count": 85,
   "metadata": {
    "execution": {
     "iopub.execute_input": "2020-12-18T17:55:58.243000-05:00",
     "iopub.status.busy": "2020-12-18T17:55:58.242000-05:00",
     "iopub.status.idle": "2020-12-18T17:55:59.161000-05:00"
    }
   },
   "outputs": [
    {
     "data": {
      "text/plain": [
       "2×2 Array{Int64,2}:\n",
       " 1  2\n",
       " 3  4"
      ]
     },
     "execution_count": 85,
     "metadata": {},
     "output_type": "execute_result"
    }
   ],
   "source": [
    "m = [1 2; 3 4]"
   ]
  },
  {
   "cell_type": "code",
   "execution_count": 86,
   "metadata": {
    "execution": {
     "iopub.execute_input": "2020-12-18T17:55:59.161000-05:00",
     "iopub.status.busy": "2020-12-18T17:55:59.161000-05:00",
     "iopub.status.idle": "2020-12-18T17:55:59.162000-05:00"
    }
   },
   "outputs": [
    {
     "data": {
      "text/plain": [
       "Array{Int64,2}"
      ]
     },
     "execution_count": 86,
     "metadata": {},
     "output_type": "execute_result"
    }
   ],
   "source": [
    "typeof(m)"
   ]
  },
  {
   "cell_type": "markdown",
   "metadata": {
    "slideshow": {
     "slide_type": "subslide"
    }
   },
   "source": [
    "### Multiple Dispatch\n",
    "\n",
    "Now we are ready to talk about Julia's core abstraction (and a primary source of its extreme power!): multiple dispatch\n"
   ]
  },
  {
   "cell_type": "code",
   "execution_count": null,
   "metadata": {},
   "outputs": [],
   "source": []
  },
  {
   "cell_type": "markdown",
   "metadata": {
    "slideshow": {
     "slide_type": "subslide"
    }
   },
   "source": [
    "Suppose we are trying to decide who to invite to a dinner party\n",
    "\n",
    "Our rule is that friends should get a definite yes\n",
    "\n",
    "Enemies a definite no\n",
    "\n",
    "Strangers a 50%/50% toss up "
   ]
  },
  {
   "cell_type": "markdown",
   "metadata": {},
   "source": [
    "```python\n",
    "class Person:\n",
    "    def should_invite_to_dinner(self):\n",
    "        return random.rand() < 0.5\n",
    "\n",
    "class Friend(Person):\n",
    "    def dinner(self):\n",
    "        return True\n",
    "    \n",
    "class Enemy(Person):\n",
    "    def dinner(self, wife_says, age):\n",
    "        return False\n",
    "\n",
    "def should_invite_to_dinner(x):\n",
    "    if isinstance(x, Friend):\n",
    "        return True\n",
    "    elif isinstance(x, Enemy):\n",
    "        return False\n",
    "    else:\n",
    "        return random.random() > 0.5\n",
    "    \n",
    "```   "
   ]
  },
  {
   "cell_type": "code",
   "execution_count": 127,
   "metadata": {
    "execution": {
     "iopub.execute_input": "2020-12-18T18:09:17.899000-05:00",
     "iopub.status.busy": "2020-12-18T18:09:17.899000-05:00",
     "iopub.status.idle": "2020-12-18T18:09:18.174000-05:00"
    }
   },
   "outputs": [
    {
     "data": {
      "text/plain": [
       "should_invite_to_dinner (generic function with 7 methods)"
      ]
     },
     "execution_count": 127,
     "metadata": {},
     "output_type": "execute_result"
    }
   ],
   "source": [
    "should_invite_to_dinner(x) = \"fallback\"\n",
    "should_invite_to_dinner(x::Friend) = true\n",
    "should_invite_to_dinner(x::Enemy2) = false\n",
    "should_invite_to_dinner(x::Person) = rand() < 0.5"
   ]
  },
  {
   "cell_type": "code",
   "execution_count": 128,
   "metadata": {},
   "outputs": [
    {
     "data": {
      "text/plain": [
       "\"fallback\""
      ]
     },
     "execution_count": 128,
     "metadata": {},
     "output_type": "execute_result"
    }
   ],
   "source": [
    "should_invite_to_dinner(10)"
   ]
  },
  {
   "cell_type": "code",
   "execution_count": 119,
   "metadata": {},
   "outputs": [
    {
     "data": {
      "text/plain": [
       "should_invite_to_dinner (generic function with 4 methods)"
      ]
     },
     "execution_count": 119,
     "metadata": {},
     "output_type": "execute_result"
    }
   ],
   "source": [
    "should_invite_to_dinner(x::Person, wife_says::Bool) = wife_says"
   ]
  },
  {
   "cell_type": "code",
   "execution_count": 120,
   "metadata": {},
   "outputs": [
    {
     "data": {
      "text/plain": [
       "should_invite_to_dinner (generic function with 5 methods)"
      ]
     },
     "execution_count": 120,
     "metadata": {},
     "output_type": "execute_result"
    }
   ],
   "source": [
    "should_invite_to_dinner(x::Person, age::Int) = age > 21"
   ]
  },
  {
   "cell_type": "code",
   "execution_count": 123,
   "metadata": {},
   "outputs": [
    {
     "data": {
      "text/html": [
       "should_invite_to_dinner(x::<b>Person</b>, wife_says::<b>Bool</b>) in Main at In[119]:1"
      ],
      "text/plain": [
       "should_invite_to_dinner(x::Person, wife_says::Bool) in Main at In[119]:1"
      ]
     },
     "execution_count": 123,
     "metadata": {},
     "output_type": "execute_result"
    }
   ],
   "source": [
    "@which should_invite_to_dinner(dwight, true)"
   ]
  },
  {
   "cell_type": "code",
   "execution_count": 126,
   "metadata": {},
   "outputs": [
    {
     "data": {
      "text/html": [
       "should_invite_to_dinner(x::<b>Person</b>, age::<b>Int64</b>) in Main at In[120]:1"
      ],
      "text/plain": [
       "should_invite_to_dinner(x::Person, age::Int64) in Main at In[120]:1"
      ]
     },
     "execution_count": 126,
     "metadata": {},
     "output_type": "execute_result"
    }
   ],
   "source": [
    "@which should_invite_to_dinner(dwight, 30)"
   ]
  },
  {
   "cell_type": "code",
   "execution_count": 118,
   "metadata": {
    "execution": {
     "iopub.execute_input": "2020-12-18T18:12:25.547000-05:00",
     "iopub.status.busy": "2020-12-18T18:12:25.546000-05:00",
     "iopub.status.idle": "2020-12-18T18:12:25.550000-05:00"
    }
   },
   "outputs": [
    {
     "name": "stdout",
     "output_type": "stream",
     "text": [
      "should_invite_to_dinner(jim) = true\n",
      "should_invite_to_dinner(dwight) = false\n"
     ]
    },
    {
     "data": {
      "text/plain": [
       "false"
      ]
     },
     "execution_count": 118,
     "metadata": {},
     "output_type": "execute_result"
    }
   ],
   "source": [
    "@show should_invite_to_dinner(jim)\n",
    "@show should_invite_to_dinner(dwight)"
   ]
  },
  {
   "cell_type": "code",
   "execution_count": 96,
   "metadata": {
    "execution": {
     "iopub.execute_input": "2020-12-18T18:12:28.381000-05:00",
     "iopub.status.busy": "2020-12-18T18:12:28.381000-05:00",
     "iopub.status.idle": "2020-12-18T18:12:28.398000-05:00"
    },
    "slideshow": {
     "slide_type": "subslide"
    }
   },
   "outputs": [
    {
     "name": "stdout",
     "output_type": "stream",
     "text": [
      "should_invite_to_dinner(creed) = false\n",
      "should_invite_to_dinner(creed) = false\n",
      "should_invite_to_dinner(creed) = false\n",
      "should_invite_to_dinner(creed) = true\n",
      "should_invite_to_dinner(creed) = false\n",
      "should_invite_to_dinner(creed) = true\n",
      "should_invite_to_dinner(creed) = true\n",
      "should_invite_to_dinner(creed) = false\n",
      "should_invite_to_dinner(creed) = false\n",
      "should_invite_to_dinner(creed) = false\n"
     ]
    }
   ],
   "source": [
    "creed = Stranger()\n",
    "\n",
    "for _ in 1:10\n",
    "    @show should_invite_to_dinner(creed)\n",
    "end"
   ]
  },
  {
   "cell_type": "markdown",
   "metadata": {},
   "source": [
    "Notice that for the invitation for a our `Stranger` `creed` is only sent about 1/2 the time\n",
    "\n",
    "This happened even though we didn't define a method for an argument of type `Stranger`\n",
    "\n",
    "Because `Stranger` is a subtype of `Person`, when we asked Julia `should_invite_to_dinner(creed)` the *most specific* method of the `should_invite_to_dinner` function was the one defined for `::Person`"
   ]
  },
  {
   "cell_type": "code",
   "execution_count": null,
   "metadata": {},
   "outputs": [],
   "source": []
  },
  {
   "cell_type": "code",
   "execution_count": null,
   "metadata": {},
   "outputs": [],
   "source": []
  },
  {
   "cell_type": "code",
   "execution_count": null,
   "metadata": {},
   "outputs": [],
   "source": []
  },
  {
   "cell_type": "code",
   "execution_count": null,
   "metadata": {},
   "outputs": [],
   "source": []
  },
  {
   "cell_type": "code",
   "execution_count": null,
   "metadata": {},
   "outputs": [],
   "source": []
  },
  {
   "cell_type": "code",
   "execution_count": null,
   "metadata": {},
   "outputs": [],
   "source": []
  },
  {
   "cell_type": "code",
   "execution_count": null,
   "metadata": {},
   "outputs": [],
   "source": []
  },
  {
   "cell_type": "code",
   "execution_count": null,
   "metadata": {},
   "outputs": [],
   "source": []
  }
 ],
 "metadata": {
  "kernelspec": {
   "display_name": "Julia 1.5.1",
   "language": "julia",
   "name": "julia-1.5"
  },
  "language_info": {
   "file_extension": ".jl",
   "mimetype": "application/julia",
   "name": "julia",
   "version": "1.6.1"
  }
 },
 "nbformat": 4,
 "nbformat_minor": 4
}
