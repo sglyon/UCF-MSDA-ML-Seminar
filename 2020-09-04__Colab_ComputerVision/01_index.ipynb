{
 "cells": [
  {
   "cell_type": "markdown",
   "metadata": {},
   "source": [
    "# UCF MSDA ML Seminar Series Kickoff\n",
    "\n",
    "**Spencer Lyon**\n",
    "\n",
    "**2020-09-04**\n",
    "\n",
    "- - - \n"
   ]
  },
  {
   "cell_type": "markdown",
   "metadata": {},
   "source": [
    "\n",
    "Outline:\n",
    "\n",
    "- Welcome!\n",
    "- Seminar Series overview\n",
    "    - Canvas\n",
    "    - GitHub\n",
    "    - Badges/requirements\n",
    "    - Preliminary Schedule\n",
    "- More Jupyter\n",
    "    - What *is* a notebook?\n",
    "    - \n",
    "- Computer Vision in X minutes\n",
    "    - Image classification\n",
    "    - Image segmentation\n",
    "    - Peek under the hood: convolutional neural networks"
   ]
  },
  {
   "cell_type": "markdown",
   "metadata": {},
   "source": [
    "## Seminar Series Overview\n",
    "\n",
    "### Instructors\n",
    "\n",
    "- Dr. Spencer Lyon\n",
    "- Dr. Niloofar Yousefi\n",
    "- (soon to be Dr.) Kamran Ali\n",
    "- Potentially others\n",
    "\n",
    "> Also, credit goes to Dr. Dan Eilen and Hannah Faler for support and hard work helping with administration!"
   ]
  },
  {
   "cell_type": "markdown",
   "metadata": {},
   "source": [
    "### Participants\n",
    "\n",
    "- Current MSDA students\n",
    "- Graduated MSDA students (our growing alumni!)"
   ]
  },
  {
   "cell_type": "markdown",
   "metadata": {},
   "source": [
    "## Goals\n",
    "\n",
    "- Give participants **hands-on** experience using techniques/theories learned in MSDA courses\n",
    "- Transfer knowledge of best practices\n",
    "- Engage in personal projects to hone skills\n",
    "- Build community of practitioners that can support one another's work\n",
    "\n",
    "> Selfish goal: train you to become type of practitioner I'd like to hire!\n",
    ">> Disclaimer: this is in no way an extension of a job offer or commitment on either end, just a note to provide context!"
   ]
  },
  {
   "cell_type": "markdown",
   "metadata": {},
   "source": [
    "### Rewards\n",
    "\n",
    "**UCF Machine Learning badge**\n",
    "\n",
    "- Official digital badge awarded to qualifying (see below) students \n",
    "- Can attach to resume/social media profile\n",
    "- Will link to page describing requirements for earning badge\n",
    "- Signal to potential employers/colleagues that you know your stuff!\n",
    "\n",
    "\n",
    "> Also you'll gain the confidence that *you* **can** do state of the art work!"
   ]
  },
  {
   "cell_type": "markdown",
   "metadata": {},
   "source": [
    "### "
   ]
  }
 ],
 "metadata": {
  "kernelspec": {
   "display_name": "Python 3",
   "language": "python",
   "name": "python3"
  },
  "language_info": {
   "codemirror_mode": {
    "name": "ipython",
    "version": 3
   },
   "file_extension": ".py",
   "mimetype": "text/x-python",
   "name": "python",
   "nbconvert_exporter": "python",
   "pygments_lexer": "ipython3",
   "version": "3.8.5"
  },
  "widgets": {
   "application/vnd.jupyter.widget-state+json": {
    "state": {},
    "version_major": 2,
    "version_minor": 0
   }
  }
 },
 "nbformat": 4,
 "nbformat_minor": 4
}