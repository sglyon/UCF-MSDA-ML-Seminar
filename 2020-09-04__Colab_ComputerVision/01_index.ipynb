{
 "cells": [
  {
   "cell_type": "markdown",
   "metadata": {
    "slideshow": {
     "slide_type": "slide"
    }
   },
   "source": [
    "\n",
    "# UCF MSDA ML Seminar Series Kickoff\n",
    "\n",
    "**Spencer Lyon**\n",
    "\n",
    "**2020-09-04**\n",
    "\n",
    "<a href=\"https://colab.research.google.com/github/sglyon/UCF-MSDA-ML-Seminar/blob/master/2020-09-04__Colab_ComputerVision/01_index.ipynb\" target=\"_parent\"><img src=\"https://colab.research.google.com/assets/colab-badge.svg\" alt=\"Open In Colab\"/></a>"
   ]
  },
  {
   "cell_type": "markdown",
   "metadata": {
    "slideshow": {
     "slide_type": "subslide"
    }
   },
   "source": [
    "\n",
    "Outline:\n",
    "\n",
    "- Welcome!\n",
    "- Seminar Series overview\n",
    "    - Canvas\n",
    "    - GitHub\n",
    "    - Badges/requirements\n",
    "    - Preliminary Schedule\n",
    "- More Jupyter\n",
    "    - What *is* Jupyter?\n",
    "    - What *is* a Jupyter notebook?\n",
    "    - What can go inside a Jupyter notebook?\n",
    "    - Notebook interfaces: Google Colab\n",
    "- Computer Vision in X minutes\n",
    "    - Image classification\n",
    "    - Image segmentation\n",
    "    - Peek under the hood: convolutional neural networks"
   ]
  },
  {
   "cell_type": "markdown",
   "metadata": {
    "slideshow": {
     "slide_type": "slide"
    }
   },
   "source": [
    "## Seminar Series Overview\n",
    "\n",
    "### Instructors\n",
    "\n",
    "- Dr. Spencer Lyon\n",
    "- Dr. Niloofar Yousefi\n",
    "- (soon to be Dr.) Kamran Ali\n",
    "- Potentially others\n",
    "\n",
    "> Also, credit goes to Dr. Dan Eilen and Hannah Faler for support and hard work helping with administration!"
   ]
  },
  {
   "cell_type": "markdown",
   "metadata": {
    "slideshow": {
     "slide_type": "subslide"
    }
   },
   "source": [
    "### Participants\n",
    "\n",
    "- Current MSDA students\n",
    "- Graduated MSDA students (our growing alumni!)"
   ]
  },
  {
   "cell_type": "markdown",
   "metadata": {
    "slideshow": {
     "slide_type": "subslide"
    }
   },
   "source": [
    "### Goals\n",
    "\n",
    "- Give participants **hands-on** experience using techniques/theories learned in MSDA courses\n",
    "- Transfer knowledge of best practices\n",
    "- Engage in personal projects to hone skills\n",
    "- Build community of practitioners that can support one another's work\n",
    "\n",
    "> Selfish goal: train you to become type of practitioner I'd like to hire!\n",
    ">> Disclaimer: this is in no way an extension of a job offer or commitment on either end, just a note to provide context!"
   ]
  },
  {
   "cell_type": "markdown",
   "metadata": {
    "slideshow": {
     "slide_type": "subslide"
    }
   },
   "source": [
    "### Rewards\n",
    "\n",
    "**UCF Machine Learning badge**\n",
    "\n",
    "- Official digital badge awarded to qualifying (see below) students \n",
    "- Can attach to resume/social media profile\n",
    "- Will link to page describing requirements for earning badge\n",
    "- Signal to potential employers/colleagues that you know your stuff!\n",
    "\n",
    "\n",
    "> Also you'll gain the confidence that *you* **can** do state of the art work!"
   ]
  },
  {
   "cell_type": "markdown",
   "metadata": {
    "slideshow": {
     "slide_type": "subslide"
    }
   },
   "source": [
    "### Resources\n",
    "\n",
    "- Canvas: https://ucfce.instructure.com/courses/1549426\n",
    "- GitHub: https://github.com/sglyon/UCF-MSDA-ML-Seminar\n",
    "- Communication?? We've done slack in the past, instructors can be flexible"
   ]
  },
  {
   "cell_type": "markdown",
   "metadata": {
    "slideshow": {
     "slide_type": "slide"
    }
   },
   "source": [
    "## Jupyter Notebooks\n",
    "\n",
    "The file I'm using is a Jupyter notebook\n",
    "\n",
    "What is it?\n",
    "\n",
    "2 parts: **Jupyter** and **notebook**"
   ]
  },
  {
   "cell_type": "markdown",
   "metadata": {
    "slideshow": {
     "slide_type": "subslide"
    }
   },
   "source": [
    "### Jupyter\n",
    "\n",
    "The name Jupyter is mashup of **Ju**lia, **Pyt**hon and **R**: three of the most popular languages for technical computing and data analysis\n",
    "\n",
    "The Jupyter project...\n",
    "\n",
    "> exists to develop open-source software, open-standards, and services for interactive computing across dozens of programming languages.\n",
    ">> https://jupyter.org"
   ]
  },
  {
   "cell_type": "markdown",
   "metadata": {
    "slideshow": {
     "slide_type": "subslide"
    }
   },
   "source": [
    "### Components\n",
    "\n",
    "Jupyter has a few components:\n",
    "\n",
    "- A *protocol* for interactive communication across programming languages\n",
    "- A *kernel* specification for languages to implement and *hook in* to Jupyter ecosystem\n",
    "- A *notebook* document format"
   ]
  },
  {
   "cell_type": "markdown",
   "metadata": {
    "slideshow": {
     "slide_type": "subslide"
    }
   },
   "source": [
    "### Notebook\n",
    "\n",
    "- The Notebook document format is a custom JSON document (see plain text)\n",
    "- Used by many frontends to interact with computational documents:\n",
    "    - Jupyter notebook/Jupyter lab: flagship first-party interfaces\n",
    "    - Nteract: desktop application\n",
    "    - Pycharm/VS Code/Atom: Editor/IDE integration\n"
   ]
  },
  {
   "cell_type": "markdown",
   "metadata": {
    "slideshow": {
     "slide_type": "subslide"
    }
   },
   "source": [
    "#### Notebook Content\n",
    "\n",
    "Rich, formatted text (using markdown):\n",
    "\n",
    "- Lists (like the one we are in)\n",
    "- **bold**, *italic*, ~~strikethrough~~\n",
    "- Math equations: $V(a) = \\max_{c, a'} u(c) + E[V(a')]$\n",
    "- Images, videos, etc."
   ]
  },
  {
   "cell_type": "markdown",
   "metadata": {
    "slideshow": {
     "slide_type": "subslide"
    }
   },
   "source": [
    "And code (with outputs!):"
   ]
  },
  {
   "cell_type": "code",
   "execution_count": null,
   "metadata": {
    "vscode": {
     "end_execution_time": "2020-09-04T16:25:11.024Z",
     "start_execution_time": "2020-09-04T16:25:10.762Z"
    }
   },
   "outputs": [],
   "source": [
    "import matplotlib.pyplot as plt\n",
    "plt.style.use(\"ggplot\")\n",
    "plt.plot([x**2 for x in range(-5, 5)]);"
   ]
  },
  {
   "cell_type": "markdown",
   "metadata": {
    "slideshow": {
     "slide_type": "subslide"
    }
   },
   "source": [
    "## Notebook Interfaces\n",
    "\n",
    "Jupyter notebooks can be used from a variety of programs:\n",
    "\n",
    "- IPython notebook: original interface, runs server that hosts web page, interact via browser\n",
    "- Jupyter Lab: New UI from Jupyter team, similar architecture, multiple files/notebooks/consoles\n",
    "- Nteract: Desktop application you can download + launch. Still need to install kernels\n",
    "- PyCharm/VS Code: IDEs and text editors now have support for notebooks\n",
    "- Google Colab: Free, managed service for jupyter notebooks, login using google credentials via browser, integration with google drive"
   ]
  },
  {
   "cell_type": "markdown",
   "metadata": {
    "slideshow": {
     "slide_type": "subslide"
    }
   },
   "source": [
    "We will do computer vision examples inside Colab\n",
    "\n",
    "You can open this notebook from colab by clicking on the following link:\n",
    "\n",
    "https://colab.research.google.com/github/sglyon/UCF-MSDA-ML-Seminar/blob/master/2020-09-04__Colab_ComputerVision/01_index.ipynb\n"
   ]
  },
  {
   "cell_type": "markdown",
   "metadata": {
    "slideshow": {
     "slide_type": "slide"
    }
   },
   "source": [
    "## Computer Vision\n",
    "\n",
    "We likely won't have time to get through much of these materials, but we'll do our best to get started\n",
    "\n",
    "We encourage you to do some studying on your own outside of class if you are interested!\n",
    "\n",
    "We'll be looking at examples from the book \"Deep Learning for Coders with fastai and PyTorch: AI Applications Without a PhD\" (link to [Amazon](https://www.amazon.com/Deep-Learning-Coders-fastai-PyTorch/dp/1492045527))\n",
    "\n",
    "- FastAI Chapter 1: https://colab.research.google.com/github/fastai/fastbook/blob/master/01_intro.ipynb\n",
    "- FastAI Chapter 13: https://colab.research.google.com/github/fastai/fastbook/blob/master/13_convolutions.ipynb\n",
    "\n",
    "> NOTE: you **must**  comment out the line `fastbook.setup_book()` before trying to run the code in Colab. That might break some things (I haven't seen it yet), but it has not worked for me on Colab"
   ]
  },
  {
   "cell_type": "code",
   "execution_count": null,
   "metadata": {},
   "outputs": [],
   "source": []
  }
 ],
 "metadata": {
  "celltoolbar": "Slideshow",
  "kernelspec": {
   "display_name": "Python 3 (ipykernel)",
   "language": "python",
   "name": "python3"
  },
  "language_info": {
   "codemirror_mode": {
    "name": "ipython",
    "version": 3
   },
   "file_extension": ".py",
   "mimetype": "text/x-python",
   "name": "python",
   "nbconvert_exporter": "python",
   "pygments_lexer": "ipython3",
   "version": "3.9.7"
  },
  "widgets": {
   "application/vnd.jupyter.widget-state+json": {
    "state": {},
    "version_major": 2,
    "version_minor": 0
   }
  }
 },
 "nbformat": 4,
 "nbformat_minor": 4
}
