{
 "cells": [
  {
   "cell_type": "markdown",
   "metadata": {},
   "source": [
    "# Intro to Julia\n",
    "\n",
    "In this lecture we will learn about one of my favorite programming languages: Julia\n",
    "\n",
    "Julia is a new language:\n",
    "\n",
    "- first public release (v0.1) in 2013\n",
    "- First API stable release (v1.0) in 2018\n",
    "- I've been actively using and developing Julia libraries since 2014 (v0.2)\n",
    "\n",
    "Without Julia the code for my PhD would still be running and I wouldn't be Dr. Lyon..."
   ]
  },
  {
   "cell_type": "markdown",
   "metadata": {},
   "source": [
    "## Why Julia?\n",
    "\n",
    "Julia is a generic programming language: \n",
    "\n",
    "- Can be used for any task\n",
    "- Is used for a variety of applications such as data analytics, web programming, microservices\n",
    "\n",
    "However, it is also built with numerical/technical computing in mind\n",
    "\n",
    "Has many features that help the scientific programmer:\n",
    "\n",
    "- Built in nd-array types\n",
    "- Extensive standard library (shipped with Julia itself): `Dates`, `Test`, `SparseArrays`, `Distributed`, `LinearAlgebra`, `Random`, `Markdown`, and many more!\n",
    "- Built in tools for multi threaded concurrency and distributed parallel computation\n",
    "- Julia code is *very fast*"
   ]
  },
  {
   "cell_type": "markdown",
   "metadata": {},
   "source": [
    "### Julia's Technology\n",
    "\n",
    "Julia's technology stack makes its unique value propositions possible\n",
    "\n",
    "Julia is a just in time (JIT) compiled language using the LLVM toolchain (powers Rust, modern C++ compilers, etc... **very** efficient)\n",
    "\n",
    "The JITted nature of Julia means:\n",
    "\n",
    "- All code is compiled to machine code before execution\n",
    "- This happens as needed, so it feels as dynamic as interpreted languages like Python\n",
    "- The machine code can be optimized end to end and execute at C-like speeds\n"
   ]
  },
  {
   "cell_type": "markdown",
   "metadata": {},
   "source": [
    "### Julia is written in Julia\n",
    "\n",
    "Julia has a relatively small core written in C\n",
    "\n",
    "The vast majority of Julia itself, its standard libraries, and third party packages are written in Julia\n",
    "\n",
    "This means a few things:\n",
    "\n",
    "- Julia users can be library developers/contributors (open source FTW)\n",
    "- Julia user code has same standing as built in code (not true for languages like Python/R)\n",
    "- Julia doesn't often have \"two language problem\": users write most code in one language and are forced to use a second language to make it fast (e.g. Python + C)"
   ]
  },
  {
   "cell_type": "markdown",
   "metadata": {},
   "source": [
    "### Other Language features\n",
    "\n",
    "Julia was originally created to make numerical computing better\n",
    "\n",
    "*warning, opinion coming!*\n",
    "\n",
    "As such, Julia's syntax is concice, expressive, and beautiful for doing numerical work\n",
    "\n",
    "Julia has advanced features like metaprogramming (code that writes code!), parametric types, symmetric coroutines, etc...\n",
    "\n",
    "The result is a system that allows an ecosystem of *composable* and *interoperable* components (a User can use features of one package with another package without either package knowing the other exists)"
   ]
  },
  {
   "cell_type": "markdown",
   "metadata": {},
   "source": [
    "## Installation\n",
    "\n",
    "To install Julia on your machine...\n",
    "\n",
    "- Go to https://julialang.org/downloads/\n",
    "- Download the latest released version of Julia for your operating system and follow system-specific installation instructions\n",
    "- Install jupyter support (optional): Launch julia then at prompt type: `using Pkg; Pkg.add(\"IJulia\")`"
   ]
  },
  {
   "cell_type": "code",
   "execution_count": null,
   "metadata": {},
   "outputs": [],
   "source": []
  }
 ],
 "metadata": {
  "kernelspec": {
   "display_name": "Julia 1.5.3",
   "language": "julia",
   "name": "julia-1.5"
  },
  "language_info": {
   "file_extension": ".jl",
   "mimetype": "application/julia",
   "name": "julia",
   "version": "1.5.3"
  }
 },
 "nbformat": 4,
 "nbformat_minor": 4
}
